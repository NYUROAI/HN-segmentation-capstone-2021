{
 "cells": [
  {
   "cell_type": "code",
   "execution_count": 2,
   "id": "e59d51ee",
   "metadata": {},
   "outputs": [
    {
     "ename": "PermissionError",
     "evalue": "[Errno 13] Permission denied: '/gpfs/data/yuanlab/projects/HN_autocontour/notebooks/3D_Unet_Dante/test.py'",
     "output_type": "error",
     "traceback": [
      "\u001b[0;31m---------------------------------------------------------------------------\u001b[0m",
      "\u001b[0;31mPermissionError\u001b[0m                           Traceback (most recent call last)",
      "\u001b[0;32m/tmp/ipykernel_111338/111183675.py\u001b[0m in \u001b[0;36m<module>\u001b[0;34m\u001b[0m\n\u001b[1;32m      8\u001b[0m \u001b[0;32mfrom\u001b[0m \u001b[0mutil\u001b[0m \u001b[0;32mimport\u001b[0m \u001b[0mplot_loss_time\u001b[0m\u001b[0;34m\u001b[0m\u001b[0;34m\u001b[0m\u001b[0m\n\u001b[1;32m      9\u001b[0m \u001b[0;32mfrom\u001b[0m \u001b[0mutil\u001b[0m \u001b[0;32mimport\u001b[0m \u001b[0mprepare_batch\u001b[0m\u001b[0;34m,\u001b[0m \u001b[0mget_model_and_optimizer\u001b[0m\u001b[0;34m\u001b[0m\u001b[0;34m\u001b[0m\u001b[0m\n\u001b[0;32m---> 10\u001b[0;31m \u001b[0;32mfrom\u001b[0m \u001b[0mvisualization_result\u001b[0m \u001b[0;32mimport\u001b[0m \u001b[0mplot\u001b[0m\u001b[0;34m\u001b[0m\u001b[0;34m\u001b[0m\u001b[0m\n\u001b[0m",
      "\u001b[0;32m/gpfs/data/yuanlab/projects/HN_autocontour/notebooks/3D_Unet_Dante/visualization_result.py\u001b[0m in \u001b[0;36m<module>\u001b[0;34m\u001b[0m\n\u001b[0;32m----> 1\u001b[0;31m \u001b[0;32mfrom\u001b[0m \u001b[0mtest\u001b[0m \u001b[0;32mimport\u001b[0m \u001b[0mtest\u001b[0m\u001b[0;34m\u001b[0m\u001b[0;34m\u001b[0m\u001b[0m\n\u001b[0m\u001b[1;32m      2\u001b[0m \u001b[0;32mfrom\u001b[0m \u001b[0mpreprocess\u001b[0m \u001b[0;32mimport\u001b[0m \u001b[0mpreprocess\u001b[0m\u001b[0;34m\u001b[0m\u001b[0;34m\u001b[0m\u001b[0m\n\u001b[1;32m      3\u001b[0m \u001b[0;32mfrom\u001b[0m \u001b[0mos\u001b[0m \u001b[0;32mimport\u001b[0m \u001b[0mlistdir\u001b[0m\u001b[0;34m\u001b[0m\u001b[0;34m\u001b[0m\u001b[0m\n\u001b[1;32m      4\u001b[0m \u001b[0;32mimport\u001b[0m \u001b[0mtorch\u001b[0m\u001b[0;34m\u001b[0m\u001b[0;34m\u001b[0m\u001b[0m\n\u001b[1;32m      5\u001b[0m \u001b[0;34m\u001b[0m\u001b[0m\n",
      "\u001b[0;32m/gpfs/share/apps/anaconda3/gpu/5.2.0/envs/yz7005/lib/python3.9/importlib/_bootstrap.py\u001b[0m in \u001b[0;36m_find_and_load\u001b[0;34m(name, import_)\u001b[0m\n",
      "\u001b[0;32m/gpfs/share/apps/anaconda3/gpu/5.2.0/envs/yz7005/lib/python3.9/importlib/_bootstrap.py\u001b[0m in \u001b[0;36m_find_and_load_unlocked\u001b[0;34m(name, import_)\u001b[0m\n",
      "\u001b[0;32m/gpfs/share/apps/anaconda3/gpu/5.2.0/envs/yz7005/lib/python3.9/importlib/_bootstrap.py\u001b[0m in \u001b[0;36m_load_unlocked\u001b[0;34m(spec)\u001b[0m\n",
      "\u001b[0;32m/gpfs/share/apps/anaconda3/gpu/5.2.0/envs/yz7005/lib/python3.9/importlib/_bootstrap_external.py\u001b[0m in \u001b[0;36mexec_module\u001b[0;34m(self, module)\u001b[0m\n",
      "\u001b[0;32m/gpfs/share/apps/anaconda3/gpu/5.2.0/envs/yz7005/lib/python3.9/importlib/_bootstrap_external.py\u001b[0m in \u001b[0;36mget_code\u001b[0;34m(self, fullname)\u001b[0m\n",
      "\u001b[0;32m/gpfs/share/apps/anaconda3/gpu/5.2.0/envs/yz7005/lib/python3.9/importlib/_bootstrap_external.py\u001b[0m in \u001b[0;36mget_data\u001b[0;34m(self, path)\u001b[0m\n",
      "\u001b[0;31mPermissionError\u001b[0m: [Errno 13] Permission denied: '/gpfs/data/yuanlab/projects/HN_autocontour/notebooks/3D_Unet_Dante/test.py'"
     ]
    }
   ],
   "source": [
    "import torch\n",
    "\n",
    "from loadDataset import subjectLoader\n",
    "from preprocess import preprocess\n",
    "from train import train_validate\n",
    "import lossOption\n",
    "# from test import test\n",
    "from util import plot_loss_time\n",
    "from util import prepare_batch, get_model_and_optimizer\n",
    "from visualization_result import plot"
   ]
  },
  {
   "cell_type": "code",
   "execution_count": 2,
   "id": "0f9aaae0",
   "metadata": {},
   "outputs": [],
   "source": [
    "organ = 'BrainStem'\n",
    "mask_name = f'mask_{organ}'"
   ]
  },
  {
   "cell_type": "markdown",
   "id": "e548202a",
   "metadata": {},
   "source": [
    "#### prepare data"
   ]
  },
  {
   "cell_type": "code",
   "execution_count": 5,
   "id": "bd772172",
   "metadata": {},
   "outputs": [
    {
     "name": "stdout",
     "output_type": "stream",
     "text": [
      "Training set: 211 subjects\n",
      "Validation set: 45 subjects\n",
      "Test set: 46 subjects\n"
     ]
    }
   ],
   "source": [
    "training_subjects, validation_subjects, test_subjects = subjectLoader().__getitem__()\n",
    "training_set, validation_set, test_set = preprocess().transformation(training_subjects, validation_subjects, test_subjects)\n",
    "print('Training set:', len(training_set), 'subjects')\n",
    "print('Validation set:', len(validation_set), 'subjects')\n",
    "print('Test set:', len(test_set), 'subjects')"
   ]
  },
  {
   "cell_type": "markdown",
   "id": "5ec22502",
   "metadata": {},
   "source": [
    "#### train"
   ]
  },
  {
   "cell_type": "code",
   "execution_count": 5,
   "id": "f2fd5b36",
   "metadata": {},
   "outputs": [],
   "source": [
    "save_to = f'team_models/script_testing.pth'\n",
    "param = {'Name': [lossOption.Dice(), lossOption.BCE()], 'Weights': [0.5, 0.5]}\n",
    "scheduled_param = {'First': [lossOption.BCE()],\n",
    "                   'FirstWeights': [1],\n",
    "                   'Second': [lossOption.Dice(), lossOption.BCE()],\n",
    "                   'SecondWeights': [0.3, 0.7],\n",
    "                   'Scheduler': [0.05, 0]}\n",
    "obj = train_validate(organ=organ, \n",
    "                     save_to=save_to, \n",
    "                     num_epoch=1, \n",
    "                     loss_method='scheduled', \n",
    "                     scheduled_param=scheduled_param)"
   ]
  },
  {
   "cell_type": "code",
   "execution_count": 6,
   "id": "d5b1baca",
   "metadata": {},
   "outputs": [
    {
     "name": "stdout",
     "output_type": "stream",
     "text": [
      "Starting epoch 1\n"
     ]
    },
    {
     "data": {
      "application/vnd.jupyter.widget-view+json": {
       "model_id": "37c2e4ff73e5480abb9dc23963c0a7fb",
       "version_major": 2,
       "version_minor": 0
      },
      "text/plain": [
       "  0%|          | 0/211 [00:00<?, ?it/s]"
      ]
     },
     "metadata": {},
     "output_type": "display_data"
    },
    {
     "name": "stderr",
     "output_type": "stream",
     "text": [
      "/gpfs/data/yuanlab/projects/HN_autocontour/notebooks/3D_Unet_Dante/util.py:12: UserWarning: __floordiv__ is deprecated, and its behavior will change in a future version of pytorch. It currently rounds toward 0 (like the 'trunc' function NOT 'floor'). This results in incorrect rounding for negative values. To keep the current behavior, use torch.div(a, b, rounding_mode='trunc'), or for actual floor division, use torch.div(a, b, rounding_mode='floor').\n",
      "  targets = (batch['mask']['data'] // 255).to(device)\n",
      "/gpfs/share/apps/anaconda3/gpu/5.2.0/envs/yz7005/lib/python3.9/site-packages/unet/decoding.py:146: UserWarning: __floordiv__ is deprecated, and its behavior will change in a future version of pytorch. It currently rounds toward 0 (like the 'trunc' function NOT 'floor'). This results in incorrect rounding for negative values. To keep the current behavior, use torch.div(a, b, rounding_mode='trunc'), or for actual floor division, use torch.div(a, b, rounding_mode='floor').\n",
      "  half_crop = crop // 2\n"
     ]
    },
    {
     "name": "stdout",
     "output_type": "stream",
     "text": [
      "Training mean loss: 0.104\n"
     ]
    },
    {
     "data": {
      "application/vnd.jupyter.widget-view+json": {
       "model_id": "b42c789fbba9403488ca671c5d3a5ef5",
       "version_major": 2,
       "version_minor": 0
      },
      "text/plain": [
       "  0%|          | 0/45 [00:00<?, ?it/s]"
      ]
     },
     "metadata": {},
     "output_type": "display_data"
    },
    {
     "name": "stdout",
     "output_type": "stream",
     "text": [
      "Validation mean loss: 0.013\n"
     ]
    }
   ],
   "source": [
    "model, train_losses, val_losses = obj.run_train_val(training_set, validation_set)"
   ]
  },
  {
   "cell_type": "markdown",
   "id": "0c70081b",
   "metadata": {},
   "source": [
    "#### test"
   ]
  },
  {
   "cell_type": "code",
   "execution_count": 6,
   "id": "023b29ee",
   "metadata": {},
   "outputs": [],
   "source": [
    "# if want to load from outside dictionary\n",
    "state_dict = torch.load(f'team_models/{organ}_4dice_6boundary_state_dict.pth') \n",
    "loadmodel, _ = get_model_and_optimizer(torch.device('cuda'))\n",
    "loadmodel.load_state_dict(state_dict['weights'])\n",
    "train_losses = state_dict['train_losses']\n",
    "val_losses = state_dict['val_losses']"
   ]
  },
  {
   "cell_type": "code",
   "execution_count": 7,
   "id": "1cdc2479",
   "metadata": {},
   "outputs": [
    {
     "data": {
      "application/vnd.jupyter.widget-view+json": {
       "model_id": "45001e6955a246ce916621b6df6e1040",
       "version_major": 2,
       "version_minor": 0
      },
      "text/plain": [
       "  0%|          | 0/46 [00:00<?, ?it/s]"
      ]
     },
     "metadata": {},
     "output_type": "display_data"
    },
    {
     "name": "stderr",
     "output_type": "stream",
     "text": [
      "/gpfs/data/yuanlab/projects/HN_autocontour/notebooks/3D_Unet_Dante/util.py:12: UserWarning: __floordiv__ is deprecated, and its behavior will change in a future version of pytorch. It currently rounds toward 0 (like the 'trunc' function NOT 'floor'). This results in incorrect rounding for negative values. To keep the current behavior, use torch.div(a, b, rounding_mode='trunc'), or for actual floor division, use torch.div(a, b, rounding_mode='floor').\n",
      "  targets = (batch['mask']['data'] // 255).to(device)\n",
      "/gpfs/share/apps/anaconda3/gpu/5.2.0/envs/yz7005/lib/python3.9/site-packages/unet/decoding.py:146: UserWarning: __floordiv__ is deprecated, and its behavior will change in a future version of pytorch. It currently rounds toward 0 (like the 'trunc' function NOT 'floor'). This results in incorrect rounding for negative values. To keep the current behavior, use torch.div(a, b, rounding_mode='trunc'), or for actual floor division, use torch.div(a, b, rounding_mode='floor').\n",
      "  half_crop = crop // 2\n"
     ]
    },
    {
     "name": "stdout",
     "output_type": "stream",
     "text": [
      "dice mean: 0.406\n",
      "dice std: 0.046\n",
      "ppv mean: 0.610\n",
      "ppv std: 0.107\n",
      "sensitivity mean: 0.308\n",
      "sensitivity std: 0.038\n"
     ]
    }
   ],
   "source": [
    "test_obj = test(threshold='top_prob', organ=organ)\n",
    "probability, target, dice, ppv, sensitivity = test_obj.run_test(test_set, loadmodel)"
   ]
  },
  {
   "cell_type": "code",
   "execution_count": null,
   "id": "76fb18b6",
   "metadata": {},
   "outputs": [],
   "source": []
  }
 ],
 "metadata": {
  "kernelspec": {
   "display_name": "Python 3 (ipykernel)",
   "language": "python",
   "name": "python3"
  },
  "language_info": {
   "codemirror_mode": {
    "name": "ipython",
    "version": 3
   },
   "file_extension": ".py",
   "mimetype": "text/x-python",
   "name": "python",
   "nbconvert_exporter": "python",
   "pygments_lexer": "ipython3",
   "version": "3.9.7"
  }
 },
 "nbformat": 4,
 "nbformat_minor": 5
}
